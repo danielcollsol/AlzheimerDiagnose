{
 "cells": [
  {
   "cell_type": "code",
   "execution_count": 3,
   "metadata": {},
   "outputs": [
    {
     "data": {
      "text/html": [
       "\n",
       "<!-- Just run this cell to provide style to the notebook-->\n",
       "<!-- This is a code to add style to the notebook, it is based on a .css on GitHub http://bit.ly/1Bf5Hft -->\n",
       "\n",
       "<style>\n",
       "\n",
       "html {\n",
       "  font-size: 62.5% !important; }\n",
       "body {\n",
       "  font-size: 1.5em !important; /* currently ems cause chrome bug misinterpreting rems on body element */\n",
       "  line-height: 1.6 !important;\n",
       "  font-weight: 400 !important;\n",
       "  font-family: \"Raleway\", \"HelveticaNeue\", \"Helvetica Neue\", Helvetica, Arial, sans-serif !important;\n",
       "  color: #222 !important; }\n",
       "\n",
       "div{ border-radius: 0px !important;  }\n",
       "div.CodeMirror-sizer{ background: rgb(244, 244, 248) !important; }\n",
       "div.input_area{ background: rgb(244, 244, 248) !important; }\n",
       "\n",
       "div.out_prompt_overlay:hover{ background: rgb(244, 244, 248) !important; }\n",
       "div.input_prompt:hover{ background: rgb(244, 244, 248) !important; }\n",
       "\n",
       "h1, h2, h3, h4, h5, h6 {\n",
       "  color: #333 !important;\n",
       "  margin-top: 0 !important;\n",
       "  margin-bottom: 2rem !important;\n",
       "  font-weight: 300 !important;\n",
       "    text-decoration: underline;\n",
       "}\n",
       "h1 { font-size: 4.0rem !important; line-height: 1.2 !important;  letter-spacing: -.1rem !important;}\n",
       "h2 { font-size: 3.6rem !important; line-height: 1.25 !important; letter-spacing: -.1rem !important; }\n",
       "h3 { font-size: 3.0rem !important; line-height: 1.3 !important;  letter-spacing: -.1rem !important; }\n",
       "h4 { font-size: 2.4rem !important; line-height: 1.35 !important; letter-spacing: -.08rem !important; }\n",
       "h5 { font-size: 1.8rem !important; line-height: 1.5 !important;  letter-spacing: -.05rem !important; }\n",
       "h6 { font-size: 1.5rem !important; line-height: 1.6 !important;  letter-spacing: 0 !important; }\n",
       "    \n",
       "@media (min-width: 550px) {\n",
       "  h1 { font-size: 5.0rem !important; }\n",
       "  h2 { font-size: 4.2rem !important; }\n",
       "  h3 { font-size: 3.6rem !important; }\n",
       "  h4 { font-size: 3.0rem !important; }\n",
       "  h5 { font-size: 2.4rem !important; }\n",
       "  h6 { font-size: 1.5rem !important; }\n",
       "}\n",
       "\n",
       "p {\n",
       "    margin-top: 0 !important;\n",
       "    margin-bottom: 1rem !important;\n",
       "    text-align: justify;\n",
       "    text-justify: inter-word;\n",
       "    line-height: 1.5 !important;\n",
       "    font-size: 1.2em !important;\n",
       "    font-family: \"Raleway\", \"HelveticaNeue\", \"Helvetica Neue\", Helvetica, Arial, sans-serif !important;\n",
       "}\n",
       "  \n",
       "a {\n",
       "  color: #1EAEDB !important; }\n",
       "a:hover {\n",
       "  color: #0FA0CE !important; }\n",
       "  \n",
       "code {\n",
       "  padding: .2rem .5rem !important;\n",
       "  margin: 0 .2rem !important;\n",
       "  font-size: 90% !important;\n",
       "  white-space: nowrap !important;\n",
       "  background: #F1F1F1 !important;\n",
       "  border: 1px solid #E1E1E1 !important;\n",
       "  border-radius: 4px !important; }\n",
       "pre > code {\n",
       "  display: block !important;\n",
       "  padding: 1rem 1.5rem !important;\n",
       "  white-space: pre !important; }\n",
       "  \n",
       "button{ border-radius: 0px !important; }\n",
       ".navbar-inner{ background-image: none !important;  }\n",
       "select, textarea{ border-radius: 0px !important; }\n",
       "    \n",
       "#Top_Header {\n",
       "    background-size: contain;\n",
       "    background-repeat: no-repeat;\n",
       "    background-position: left, right;\n",
       "}\n",
       "\n",
       ".output {\n",
       "    display: flex;\n",
       "    align-items: center;\n",
       "    text-align: center;\n",
       "}\n",
       "    \n",
       "</style>\n",
       "    \n",
       "<script> \n",
       "$( document ).ready(function () {\n",
       "    $(\"div#notebook-container\").children().first().hide();\n",
       "});\n",
       "</script>\n"
      ],
      "text/plain": [
       "<IPython.core.display.HTML object>"
      ]
     },
     "metadata": {},
     "output_type": "display_data"
    }
   ],
   "source": [
    "%%html\n",
    "\n",
    "<!-- Just run this cell to provide style to the notebook-->\n",
    "<!-- This is a code to add style to the notebook, it is based on a .css on GitHub http://bit.ly/1Bf5Hft -->\n",
    "\n",
    "<style>\n",
    "\n",
    "html {\n",
    "  font-size: 62.5% !important; }\n",
    "body {\n",
    "  font-size: 1.5em !important; /* currently ems cause chrome bug misinterpreting rems on body element */\n",
    "  line-height: 1.6 !important;\n",
    "  font-weight: 400 !important;\n",
    "  font-family: \"Raleway\", \"HelveticaNeue\", \"Helvetica Neue\", Helvetica, Arial, sans-serif !important;\n",
    "  color: #222 !important; }\n",
    "\n",
    "div{ border-radius: 0px !important;  }\n",
    "div.CodeMirror-sizer{ background: rgb(244, 244, 248) !important; }\n",
    "div.input_area{ background: rgb(244, 244, 248) !important; }\n",
    "\n",
    "div.out_prompt_overlay:hover{ background: rgb(244, 244, 248) !important; }\n",
    "div.input_prompt:hover{ background: rgb(244, 244, 248) !important; }\n",
    "\n",
    "h1, h2, h3, h4, h5, h6 {\n",
    "  color: #333 !important;\n",
    "  margin-top: 0 !important;\n",
    "  margin-bottom: 2rem !important;\n",
    "  font-weight: 300 !important;\n",
    "    text-decoration: underline;\n",
    "}\n",
    "h1 { font-size: 4.0rem !important; line-height: 1.2 !important;  letter-spacing: -.1rem !important;}\n",
    "h2 { font-size: 3.6rem !important; line-height: 1.25 !important; letter-spacing: -.1rem !important; }\n",
    "h3 { font-size: 3.0rem !important; line-height: 1.3 !important;  letter-spacing: -.1rem !important; }\n",
    "h4 { font-size: 2.4rem !important; line-height: 1.35 !important; letter-spacing: -.08rem !important; }\n",
    "h5 { font-size: 1.8rem !important; line-height: 1.5 !important;  letter-spacing: -.05rem !important; }\n",
    "h6 { font-size: 1.5rem !important; line-height: 1.6 !important;  letter-spacing: 0 !important; }\n",
    "    \n",
    "@media (min-width: 550px) {\n",
    "  h1 { font-size: 5.0rem !important; }\n",
    "  h2 { font-size: 4.2rem !important; }\n",
    "  h3 { font-size: 3.6rem !important; }\n",
    "  h4 { font-size: 3.0rem !important; }\n",
    "  h5 { font-size: 2.4rem !important; }\n",
    "  h6 { font-size: 1.5rem !important; }\n",
    "}\n",
    "\n",
    "p {\n",
    "    margin-top: 0 !important;\n",
    "    margin-bottom: 1rem !important;\n",
    "    text-align: justify;\n",
    "    text-justify: inter-word;\n",
    "    line-height: 1.5 !important;\n",
    "    font-size: 1.2em !important;\n",
    "    font-family: \"Raleway\", \"HelveticaNeue\", \"Helvetica Neue\", Helvetica, Arial, sans-serif !important;\n",
    "}\n",
    "  \n",
    "a {\n",
    "  color: #1EAEDB !important; }\n",
    "a:hover {\n",
    "  color: #0FA0CE !important; }\n",
    "  \n",
    "code {\n",
    "  padding: .2rem .5rem !important;\n",
    "  margin: 0 .2rem !important;\n",
    "  font-size: 90% !important;\n",
    "  white-space: nowrap !important;\n",
    "  background: #F1F1F1 !important;\n",
    "  border: 1px solid #E1E1E1 !important;\n",
    "  border-radius: 4px !important; }\n",
    "pre > code {\n",
    "  display: block !important;\n",
    "  padding: 1rem 1.5rem !important;\n",
    "  white-space: pre !important; }\n",
    "  \n",
    "button{ border-radius: 0px !important; }\n",
    ".navbar-inner{ background-image: none !important;  }\n",
    "select, textarea{ border-radius: 0px !important; }\n",
    "    \n",
    "#Top_Header {\n",
    "    background-size: contain;\n",
    "    background-repeat: no-repeat;\n",
    "    background-position: left, right;\n",
    "}\n",
    "\n",
    ".output {\n",
    "    display: flex;\n",
    "    align-items: center;\n",
    "    text-align: center;\n",
    "}\n",
    "    \n",
    "</style>\n",
    "    \n",
    "<script> \n",
    "$( document ).ready(function () {\n",
    "    $(\"div#notebook-container\").children().first().hide();\n",
    "});\n",
    "</script>"
   ]
  },
  {
   "cell_type": "code",
   "execution_count": 2,
   "metadata": {},
   "outputs": [
    {
     "data": {
      "application/javascript": [
       "//Execute this code to show the styling of the document\n",
       "$(\"div#notebook-container\").children().first().show();\n"
      ],
      "text/plain": [
       "<IPython.core.display.Javascript object>"
      ]
     },
     "metadata": {},
     "output_type": "display_data"
    }
   ],
   "source": [
    "%%javascript\n",
    "//Execute this code to show the styling of the document\n",
    "$(\"div#notebook-container\").children().first().show();"
   ]
  },
  {
   "cell_type": "markdown",
   "metadata": {},
   "source": [
    "\n",
    "<div id=\"Top_Header\">\n",
    "    <center>\n",
    "        <h1>Alzheimer Disease Identification</h1>\n",
    "        <h3>Deep Learning: Transfer Learning</h3>\n",
    "        <h6>Daniel Coll, TFM 2019</h6>\n",
    "    </center>\n",
    "</div>"
   ]
  },
  {
   "cell_type": "markdown",
   "metadata": {},
   "source": [
    "<div id=\"Introduction\">\n",
    "    <h2>Introduction</h2>\n",
    "    <p>This notebook proposes an approach to classify Structural Magnetic Resonance Imaging (MRI) for Alzheimer Disease identification using <i>Convolutional Neural Networks</i> and <i> Transfer Learning</i>.</p>\n",
    "    <p><i> Transfer Learning</i> is an excellence approach for problems where there isn't a large amount of data. Using pre-trained models helps us increase our accuracy, since these models are trained on datasets with millions of images. Adding our own fully connected layers to adapt these models to this particular problem is the final step for this procedure. </p>\n",
    "</div>"
   ]
  },
  {
   "cell_type": "markdown",
   "metadata": {},
   "source": [
    "<h2> Importing </h2>"
   ]
  },
  {
   "cell_type": "code",
   "execution_count": 28,
   "metadata": {},
   "outputs": [],
   "source": [
    "import pandas as pd\n",
    "import numpy as np\n",
    "import os\n",
    "import tensorflow as tf \n",
    "import keras \n",
    "import matplotlib.pyplot as plt\n",
    "import pickle\n",
    "import sklearn as skl\n",
    "import itertools\n",
    "from keras import regularizers\n",
    "from PIL import Image\n",
    "from sklearn.metrics import confusion_matrix\n",
    "from PIL import Image\n",
    "from keras.layers import Dense,GlobalAveragePooling2D,Dropout,BatchNormalization\n",
    "from keras.preprocessing import image\n",
    "from keras.preprocessing.image import ImageDataGenerator\n",
    "from keras.models import Model\n",
    "from keras.optimizers import Adam\n",
    "from keras.applications import VGG16\n",
    "from keras.applications.vgg16 import preprocess_input"
   ]
  },
  {
   "cell_type": "markdown",
   "metadata": {},
   "source": [
    "<h1> Auxiliar Functions </h1>"
   ]
  },
  {
   "cell_type": "markdown",
   "metadata": {},
   "source": [
    "<p> The following cell includes some useful functions.  </p>"
   ]
  },
  {
   "cell_type": "markdown",
   "metadata": {},
   "source": [
    "<h1>Path and Labels </h1>"
   ]
  },
  {
   "cell_type": "markdown",
   "metadata": {},
   "source": [
    "<p> Labels are stored in the list named \"classes\" and are ordered according to the structure in the dataset folder where the images are stored. </p>\n",
    "<p>The dataset root paths for the training, validation and test sets are stored in four different dictionaries. </p>"
   ]
  },
  {
   "cell_type": "code",
   "execution_count": 29,
   "metadata": {},
   "outputs": [],
   "source": [
    "# Classes & datasets\n",
    "classes = ['AD',  'CN'] \n",
    "datasets = ['MPRAGE_2Cat', 'MPRAGE_2CatRed']"
   ]
  },
  {
   "cell_type": "code",
   "execution_count": 30,
   "metadata": {},
   "outputs": [
    {
     "name": "stdout",
     "output_type": "stream",
     "text": [
      "Path to training dataset 1:  ../data/Datasets/MPRAGE_2Cat/TrainingSet/\n",
      "Path to validation dataset 2:  ../data/Datasets/MPRAGE_2CatRed/CrossValSet/\n",
      "Path to test dataset 3:  ../data/Datasets/MPRAGE_2CatRed/TestSet/\n"
     ]
    }
   ],
   "source": [
    "# Dataset's Paths\n",
    "for dataset in datasets:\n",
    "    vars()['dataset_{}_path'.format(dataset)] = {'train': '../data/Datasets/{}/TrainingSet/'.format(dataset,dataset),\n",
    "                 'validation': '../data/Datasets/{}/CrossValSet/'.format(dataset,dataset), \n",
    "                 'test':'../data/Datasets/{}/TestSet/'.format(dataset,dataset) }\n",
    "    \n",
    "    \n",
    "print('Path to training dataset 1: ', dataset_MPRAGE_2Cat_path.get('train'))\n",
    "print('Path to validation dataset 2: ', dataset_MPRAGE_2CatRed_path.get('validation'))\n",
    "print('Path to test dataset 3: ', dataset_MPRAGE_2CatRed_path.get('test'))\n"
   ]
  },
  {
   "cell_type": "markdown",
   "metadata": {},
   "source": [
    " <h1>Neural Network Architecture </h1>"
   ]
  },
  {
   "cell_type": "markdown",
   "metadata": {},
   "source": [
    "<p>In Keras, pre-trained models are stored in <i>keras.applications</i> and are treated as layers when designing a network. As we call <i>model.add(Convolution(...)</i>, we would call <i>model.add(Xception(...))</i>. Paremeters for that method are: weights, include_top and input_shape. </p>\n",
    "    \n",
    "<p> We can decide whether to use the pretrained weights by calling <i>weights = 'imagenet' </i>  or just stick with the structure and randomly initialize them. Include_top makes reference to include the fully connected layers in the model or not. Usually, in transfer learning, these layers are not included because the output layer differs and we are predicting new classes. Finally, input_shape is the dimension of your images in the classic format [height, width, channels]. There are default dimensions in which the models were trained, but any dimension can be used. The layer would automatically infer changes on the convolutions, poolings etc...   </p>\n",
    "\n",
    "<p> We opted for using default dimensions for each model. First of all, we define a function that returns the model we will use. Once we get the model, since the output shape is a 3D tensor we flatten it. Then, an undefined number of fully connected layers are added, each one with dropout, batch normalization and leaky relu as activation function. The output layer is the final one, and since this is classification problem we use softmax. Finally, we compile it, and we use categorical cross entropy as our loss function since we are using the softmax activation. </p>"
   ]
  },
  {
   "cell_type": "markdown",
   "metadata": {},
   "source": [
    " <h2>Importing pre-trained model and adding dense layers. </h2>"
   ]
  },
  {
   "cell_type": "markdown",
   "metadata": {},
   "source": [
    "<p> In this section we import InceptionV3 model without its last layer and add some dense layers and a softmax layer.</p>"
   ]
  },
  {
   "cell_type": "code",
   "execution_count": 31,
   "metadata": {},
   "outputs": [],
   "source": [
    "base_model=keras.applications.vgg16.VGG16(include_top=False, weights='imagenet', input_tensor=None, input_shape=(255,255,3))\n",
    "x=base_model.output\n",
    "x=GlobalAveragePooling2D()(x)\n",
    "x=Dense(20,activation='relu')(x)\n",
    "x=Dense(256,activation='relu')(x) #\n",
    "x = Dropout(0.5)(x)\n",
    "preds=Dense(2,activation='softmax',\n",
    "            kernel_regularizer=regularizers.l2(0.01),\n",
    "            activity_regularizer=regularizers.l1(0.01))(x) "
   ]
  },
  {
   "cell_type": "code",
   "execution_count": 32,
   "metadata": {},
   "outputs": [
    {
     "data": {
      "text/plain": [
       "19"
      ]
     },
     "execution_count": 32,
     "metadata": {},
     "output_type": "execute_result"
    }
   ],
   "source": [
    "len(base_model.layers)"
   ]
  },
  {
   "cell_type": "code",
   "execution_count": 33,
   "metadata": {
    "scrolled": true
   },
   "outputs": [
    {
     "name": "stdout",
     "output_type": "stream",
     "text": [
      "_________________________________________________________________\n",
      "Layer (type)                 Output Shape              Param #   \n",
      "=================================================================\n",
      "input_4 (InputLayer)         (None, 255, 255, 3)       0         \n",
      "_________________________________________________________________\n",
      "block1_conv1 (Conv2D)        (None, 255, 255, 64)      1792      \n",
      "_________________________________________________________________\n",
      "block1_conv2 (Conv2D)        (None, 255, 255, 64)      36928     \n",
      "_________________________________________________________________\n",
      "block1_pool (MaxPooling2D)   (None, 127, 127, 64)      0         \n",
      "_________________________________________________________________\n",
      "block2_conv1 (Conv2D)        (None, 127, 127, 128)     73856     \n",
      "_________________________________________________________________\n",
      "block2_conv2 (Conv2D)        (None, 127, 127, 128)     147584    \n",
      "_________________________________________________________________\n",
      "block2_pool (MaxPooling2D)   (None, 63, 63, 128)       0         \n",
      "_________________________________________________________________\n",
      "block3_conv1 (Conv2D)        (None, 63, 63, 256)       295168    \n",
      "_________________________________________________________________\n",
      "block3_conv2 (Conv2D)        (None, 63, 63, 256)       590080    \n",
      "_________________________________________________________________\n",
      "block3_conv3 (Conv2D)        (None, 63, 63, 256)       590080    \n",
      "_________________________________________________________________\n",
      "block3_pool (MaxPooling2D)   (None, 31, 31, 256)       0         \n",
      "_________________________________________________________________\n",
      "block4_conv1 (Conv2D)        (None, 31, 31, 512)       1180160   \n",
      "_________________________________________________________________\n",
      "block4_conv2 (Conv2D)        (None, 31, 31, 512)       2359808   \n",
      "_________________________________________________________________\n",
      "block4_conv3 (Conv2D)        (None, 31, 31, 512)       2359808   \n",
      "_________________________________________________________________\n",
      "block4_pool (MaxPooling2D)   (None, 15, 15, 512)       0         \n",
      "_________________________________________________________________\n",
      "block5_conv1 (Conv2D)        (None, 15, 15, 512)       2359808   \n",
      "_________________________________________________________________\n",
      "block5_conv2 (Conv2D)        (None, 15, 15, 512)       2359808   \n",
      "_________________________________________________________________\n",
      "block5_conv3 (Conv2D)        (None, 15, 15, 512)       2359808   \n",
      "_________________________________________________________________\n",
      "block5_pool (MaxPooling2D)   (None, 7, 7, 512)         0         \n",
      "=================================================================\n",
      "Total params: 14,714,688\n",
      "Trainable params: 14,714,688\n",
      "Non-trainable params: 0\n",
      "_________________________________________________________________\n"
     ]
    }
   ],
   "source": [
    "base_model.summary()"
   ]
  },
  {
   "cell_type": "markdown",
   "metadata": {},
   "source": [
    "<p> Next we reduce the complexity of the model based removing last layers.</p>"
   ]
  },
  {
   "cell_type": "code",
   "execution_count": 34,
   "metadata": {},
   "outputs": [],
   "source": [
    "def remove_layers(num_layers):\n",
    "    for iterations in list(range(num_layers-1)):\n",
    "        base_model.layers.pop()"
   ]
  },
  {
   "cell_type": "code",
   "execution_count": 35,
   "metadata": {},
   "outputs": [],
   "source": [
    "remove_layers(5) "
   ]
  },
  {
   "cell_type": "code",
   "execution_count": 36,
   "metadata": {},
   "outputs": [
    {
     "data": {
      "text/plain": [
       "15"
      ]
     },
     "execution_count": 36,
     "metadata": {},
     "output_type": "execute_result"
    }
   ],
   "source": [
    "len(base_model.layers)"
   ]
  },
  {
   "cell_type": "code",
   "execution_count": 37,
   "metadata": {
    "scrolled": true
   },
   "outputs": [
    {
     "name": "stdout",
     "output_type": "stream",
     "text": [
      "_________________________________________________________________\n",
      "Layer (type)                 Output Shape              Param #   \n",
      "=================================================================\n",
      "input_4 (InputLayer)         (None, 255, 255, 3)       0         \n",
      "_________________________________________________________________\n",
      "block1_conv1 (Conv2D)        (None, 255, 255, 64)      1792      \n",
      "_________________________________________________________________\n",
      "block1_conv2 (Conv2D)        (None, 255, 255, 64)      36928     \n",
      "_________________________________________________________________\n",
      "block1_pool (MaxPooling2D)   (None, 127, 127, 64)      0         \n",
      "_________________________________________________________________\n",
      "block2_conv1 (Conv2D)        (None, 127, 127, 128)     73856     \n",
      "_________________________________________________________________\n",
      "block2_conv2 (Conv2D)        (None, 127, 127, 128)     147584    \n",
      "_________________________________________________________________\n",
      "block2_pool (MaxPooling2D)   (None, 63, 63, 128)       0         \n",
      "_________________________________________________________________\n",
      "block3_conv1 (Conv2D)        (None, 63, 63, 256)       295168    \n",
      "_________________________________________________________________\n",
      "block3_conv2 (Conv2D)        (None, 63, 63, 256)       590080    \n",
      "_________________________________________________________________\n",
      "block3_conv3 (Conv2D)        (None, 63, 63, 256)       590080    \n",
      "_________________________________________________________________\n",
      "block3_pool (MaxPooling2D)   (None, 31, 31, 256)       0         \n",
      "_________________________________________________________________\n",
      "block4_conv1 (Conv2D)        (None, 31, 31, 512)       1180160   \n",
      "_________________________________________________________________\n",
      "block4_conv2 (Conv2D)        (None, 31, 31, 512)       2359808   \n",
      "_________________________________________________________________\n",
      "block4_conv3 (Conv2D)        (None, 31, 31, 512)       2359808   \n",
      "_________________________________________________________________\n",
      "block4_pool (MaxPooling2D)   (None, 15, 15, 512)       0         \n",
      "=================================================================\n",
      "Total params: 7,635,264\n",
      "Trainable params: 7,635,264\n",
      "Non-trainable params: 0\n",
      "_________________________________________________________________\n"
     ]
    }
   ],
   "source": [
    "base_model.summary()"
   ]
  },
  {
   "cell_type": "markdown",
   "metadata": {},
   "source": [
    "<p> Next we make a model based on the architecture we have provided for every dataset.</p>"
   ]
  },
  {
   "cell_type": "code",
   "execution_count": 38,
   "metadata": {},
   "outputs": [],
   "source": [
    "model_VGG16 = Model(inputs=base_model.input,outputs=preds)"
   ]
  },
  {
   "cell_type": "code",
   "execution_count": 39,
   "metadata": {
    "scrolled": true
   },
   "outputs": [
    {
     "name": "stdout",
     "output_type": "stream",
     "text": [
      "_________________________________________________________________\n",
      "Layer (type)                 Output Shape              Param #   \n",
      "=================================================================\n",
      "input_4 (InputLayer)         (None, 255, 255, 3)       0         \n",
      "_________________________________________________________________\n",
      "block1_conv1 (Conv2D)        (None, 255, 255, 64)      1792      \n",
      "_________________________________________________________________\n",
      "block1_conv2 (Conv2D)        (None, 255, 255, 64)      36928     \n",
      "_________________________________________________________________\n",
      "block1_pool (MaxPooling2D)   (None, 127, 127, 64)      0         \n",
      "_________________________________________________________________\n",
      "block2_conv1 (Conv2D)        (None, 127, 127, 128)     73856     \n",
      "_________________________________________________________________\n",
      "block2_conv2 (Conv2D)        (None, 127, 127, 128)     147584    \n",
      "_________________________________________________________________\n",
      "block2_pool (MaxPooling2D)   (None, 63, 63, 128)       0         \n",
      "_________________________________________________________________\n",
      "block3_conv1 (Conv2D)        (None, 63, 63, 256)       295168    \n",
      "_________________________________________________________________\n",
      "block3_conv2 (Conv2D)        (None, 63, 63, 256)       590080    \n",
      "_________________________________________________________________\n",
      "block3_conv3 (Conv2D)        (None, 63, 63, 256)       590080    \n",
      "_________________________________________________________________\n",
      "block3_pool (MaxPooling2D)   (None, 31, 31, 256)       0         \n",
      "_________________________________________________________________\n",
      "block4_conv1 (Conv2D)        (None, 31, 31, 512)       1180160   \n",
      "_________________________________________________________________\n",
      "block4_conv2 (Conv2D)        (None, 31, 31, 512)       2359808   \n",
      "_________________________________________________________________\n",
      "block4_conv3 (Conv2D)        (None, 31, 31, 512)       2359808   \n",
      "_________________________________________________________________\n",
      "block4_pool (MaxPooling2D)   (None, 15, 15, 512)       0         \n",
      "_________________________________________________________________\n",
      "block5_conv1 (Conv2D)        (None, 15, 15, 512)       2359808   \n",
      "_________________________________________________________________\n",
      "block5_conv2 (Conv2D)        (None, 15, 15, 512)       2359808   \n",
      "_________________________________________________________________\n",
      "block5_conv3 (Conv2D)        (None, 15, 15, 512)       2359808   \n",
      "_________________________________________________________________\n",
      "block5_pool (MaxPooling2D)   (None, 7, 7, 512)         0         \n",
      "_________________________________________________________________\n",
      "global_average_pooling2d_4 ( (None, 512)               0         \n",
      "_________________________________________________________________\n",
      "dense_5 (Dense)              (None, 256)               131328    \n",
      "_________________________________________________________________\n",
      "dropout_3 (Dropout)          (None, 256)               0         \n",
      "_________________________________________________________________\n",
      "dense_6 (Dense)              (None, 2)                 514       \n",
      "=================================================================\n",
      "Total params: 14,846,530\n",
      "Trainable params: 14,846,530\n",
      "Non-trainable params: 0\n",
      "_________________________________________________________________\n"
     ]
    }
   ],
   "source": [
    "model_VGG16.summary()\n"
   ]
  },
  {
   "cell_type": "markdown",
   "metadata": {},
   "source": [
    "<p1> Since we do not have a large dataset, we will set all the base model's parameters as non trainable and use the pre-trained network weights as initialisers </p1>"
   ]
  },
  {
   "cell_type": "code",
   "execution_count": 40,
   "metadata": {},
   "outputs": [],
   "source": [
    "def set_nontrainable_layers(models,num_layers):\n",
    "    for model in models:\n",
    "        for layer in model.layers[:num_layers]:\n",
    "            layer.trainable=False\n",
    "        for layer in model.layers[num_layers:]:\n",
    "            layer.trainable=True"
   ]
  },
  {
   "cell_type": "code",
   "execution_count": 41,
   "metadata": {},
   "outputs": [],
   "source": [
    "set_nontrainable_layers([model_VGG16],len(base_model.layers))"
   ]
  },
  {
   "cell_type": "markdown",
   "metadata": {},
   "source": [
    "<h2> Loading train and validation data into ImageDataGenerators</h2>"
   ]
  },
  {
   "cell_type": "code",
   "execution_count": 42,
   "metadata": {},
   "outputs": [
    {
     "name": "stdout",
     "output_type": "stream",
     "text": [
      "{'train': '../data/Datasets/MPRAGE_2Cat/TrainingSet/', 'validation': '../data/Datasets/MPRAGE_2Cat/CrossValSet/', 'test': '../data/Datasets/MPRAGE_2Cat/TestSet/'}\n",
      "Found 30000 images belonging to 2 classes.\n",
      "Found 2000 images belonging to 2 classes.\n",
      "Found 4000 images belonging to 2 classes.\n",
      "{'train': '../data/Datasets/MPRAGE_2CatRed/TrainingSet/', 'validation': '../data/Datasets/MPRAGE_2CatRed/CrossValSet/', 'test': '../data/Datasets/MPRAGE_2CatRed/TestSet/'}\n",
      "Found 2000 images belonging to 2 classes.\n",
      "Found 300 images belonging to 2 classes.\n",
      "Found 800 images belonging to 2 classes.\n"
     ]
    }
   ],
   "source": [
    "datagen = ImageDataGenerator(preprocessing_function= preprocess_input, zca_whitening=True) \n",
    "\n",
    "for dataset in datasets:\n",
    "    \n",
    "    dataset_path = vars()['dataset_{}_path'.format(dataset)]\n",
    "    print(dataset_path)\n",
    "    vars()['train_generator_{}'.format(dataset)]=datagen.flow_from_directory(\n",
    "                                                     dataset_path.get('train'), \n",
    "                                                     target_size=(255,255), \n",
    "                                                     color_mode='rgb',\n",
    "                                                     batch_size=64,\n",
    "                                                     class_mode='categorical', \n",
    "                                                     shuffle=True)\n",
    "    vars()['val_generator_{}'.format(dataset)]=datagen.flow_from_directory(\n",
    "                                                     dataset_path.get('validation'), \n",
    "                                                     target_size=(255,255), \n",
    "                                                     color_mode='rgb',\n",
    "                                                     batch_size=64,\n",
    "                                                     class_mode='categorical', \n",
    "                                                     shuffle=True) \n",
    "    \n",
    "    vars()['test_generator_{}'.format(dataset)]=datagen.flow_from_directory(\n",
    "                                                     dataset_path.get('test'), \n",
    "                                                     target_size=(255,255), \n",
    "                                                     color_mode='rgb',\n",
    "                                                     batch_size=64,\n",
    "                                                     class_mode='categorical', \n",
    "                                                     shuffle=True)\n",
    "  "
   ]
  },
  {
   "cell_type": "markdown",
   "metadata": {},
   "source": [
    "<h2> Training and Evaluating model</h2>"
   ]
  },
  {
   "cell_type": "markdown",
   "metadata": {},
   "source": [
    "<p1> We compile the models using adam as optimizer, categorical cross entropy as loss function and accuracy as evaluation metric </p1>"
   ]
  },
  {
   "cell_type": "code",
   "execution_count": 43,
   "metadata": {},
   "outputs": [],
   "source": [
    "opt = keras.optimizers.RMSprop(lr=0.0001)\n",
    "\n",
    "model_VGG16.compile(optimizer=opt,loss='binary_crossentropy',metrics=['accuracy']) "
   ]
  },
  {
   "cell_type": "code",
   "execution_count": 44,
   "metadata": {},
   "outputs": [],
   "source": [
    "# # Dataset MPRAGE_2CatRed\n",
    "# step_size_train=train_generator_MPRAGE_2CatRed.n//train_generator_MPRAGE_2CatRed.batch_size\n",
    "# print(step_size_train)\n",
    "# history = model_VGG16.fit_generator(generator=train_generator_MPRAGE_2CatRed, validation_data=val_generator_MPRAGE_2CatRed, validation_steps=10,\n",
    "#                    steps_per_epoch=step_size_train, epochs=5, verbose=1)"
   ]
  },
  {
   "cell_type": "code",
   "execution_count": 45,
   "metadata": {
    "scrolled": false
   },
   "outputs": [
    {
     "name": "stdout",
     "output_type": "stream",
     "text": [
      "32\n",
      "Epoch 1/25\n",
      "32/32 [==============================] - 24s 742ms/step - loss: 1.5178 - acc: 0.5288 - val_loss: 1.3870 - val_acc: 0.3984\n",
      "Epoch 2/25\n",
      "32/32 [==============================] - 23s 710ms/step - loss: 1.3624 - acc: 0.5596 - val_loss: 1.6322 - val_acc: 0.5281\n",
      "Epoch 3/25\n",
      "32/32 [==============================] - 23s 710ms/step - loss: 1.3625 - acc: 0.5698 - val_loss: 1.3715 - val_acc: 0.5062\n",
      "Epoch 4/25\n",
      "32/32 [==============================] - 22s 699ms/step - loss: 1.3369 - acc: 0.5962 - val_loss: 1.3755 - val_acc: 0.5524\n",
      "Epoch 5/25\n",
      "32/32 [==============================] - 23s 711ms/step - loss: 1.3277 - acc: 0.6099 - val_loss: 1.4696 - val_acc: 0.4313\n",
      "Epoch 6/25\n",
      "32/32 [==============================] - 23s 715ms/step - loss: 1.3145 - acc: 0.6372 - val_loss: 1.3663 - val_acc: 0.5297\n",
      "Epoch 7/25\n",
      "32/32 [==============================] - 22s 703ms/step - loss: 1.3179 - acc: 0.6499 - val_loss: 1.3701 - val_acc: 0.5456\n",
      "Epoch 8/25\n",
      "32/32 [==============================] - 23s 715ms/step - loss: 1.2611 - acc: 0.6846 - val_loss: 1.4532 - val_acc: 0.4719\n",
      "Epoch 9/25\n",
      "32/32 [==============================] - 23s 713ms/step - loss: 1.2702 - acc: 0.6938 - val_loss: 1.4763 - val_acc: 0.4688\n",
      "Epoch 10/25\n",
      "32/32 [==============================] - 22s 702ms/step - loss: 1.2441 - acc: 0.7129 - val_loss: 1.7237 - val_acc: 0.5220\n",
      "Epoch 11/25\n",
      "32/32 [==============================] - 23s 714ms/step - loss: 1.2561 - acc: 0.7153 - val_loss: 1.4647 - val_acc: 0.4719\n",
      "Epoch 12/25\n",
      "32/32 [==============================] - 23s 714ms/step - loss: 1.2118 - acc: 0.7451 - val_loss: 1.4113 - val_acc: 0.5062\n",
      "Epoch 13/25\n",
      "32/32 [==============================] - 22s 703ms/step - loss: 1.1983 - acc: 0.7500 - val_loss: 1.4858 - val_acc: 0.5794\n",
      "Epoch 14/25\n",
      "32/32 [==============================] - 23s 715ms/step - loss: 1.1992 - acc: 0.7705 - val_loss: 1.6496 - val_acc: 0.5328\n",
      "Epoch 15/25\n",
      "32/32 [==============================] - 23s 709ms/step - loss: 1.1546 - acc: 0.7612 - val_loss: 1.5169 - val_acc: 0.4953\n",
      "Epoch 16/25\n",
      "32/32 [==============================] - 22s 700ms/step - loss: 1.1595 - acc: 0.7847 - val_loss: 1.4362 - val_acc: 0.5541\n",
      "Epoch 17/25\n",
      "32/32 [==============================] - 23s 713ms/step - loss: 1.0976 - acc: 0.8174 - val_loss: 1.5278 - val_acc: 0.5828\n",
      "Epoch 18/25\n",
      "32/32 [==============================] - 23s 712ms/step - loss: 1.1235 - acc: 0.7954 - val_loss: 1.6301 - val_acc: 0.4594\n",
      "Epoch 19/25\n",
      "32/32 [==============================] - 23s 713ms/step - loss: 1.1241 - acc: 0.7876 - val_loss: 1.3741 - val_acc: 0.4938\n",
      "Epoch 20/25\n",
      "32/32 [==============================] - 22s 702ms/step - loss: 1.0804 - acc: 0.8223 - val_loss: 1.5614 - val_acc: 0.5676\n",
      "Epoch 21/25\n",
      "32/32 [==============================] - 23s 714ms/step - loss: 1.0869 - acc: 0.8354 - val_loss: 1.4930 - val_acc: 0.5312\n",
      "Epoch 22/25\n",
      "32/32 [==============================] - 23s 715ms/step - loss: 1.0295 - acc: 0.8496 - val_loss: 1.9341 - val_acc: 0.5109\n",
      "Epoch 23/25\n",
      "32/32 [==============================] - 22s 702ms/step - loss: 1.0336 - acc: 0.8481 - val_loss: 1.8021 - val_acc: 0.5997\n",
      "Epoch 24/25\n",
      "32/32 [==============================] - 23s 714ms/step - loss: 1.0245 - acc: 0.8447 - val_loss: 2.5145 - val_acc: 0.5484\n",
      "Epoch 25/25\n",
      "32/32 [==============================] - 23s 715ms/step - loss: 1.0086 - acc: 0.8638 - val_loss: 1.7594 - val_acc: 0.6109\n"
     ]
    }
   ],
   "source": [
    "# Dataset MPRAGE_2Cat\n",
    "step_size_train=32 \n",
    "print(step_size_train)\n",
    "history = model_VGG16.fit_generator(generator=train_generator_MPRAGE_2Cat, validation_data=val_generator_MPRAGE_2Cat,\n",
    "                                    validation_steps=10,steps_per_epoch=step_size_train, epochs=25)"
   ]
  },
  {
   "cell_type": "markdown",
   "metadata": {},
   "source": [
    "## Training Curve"
   ]
  },
  {
   "cell_type": "code",
   "execution_count": 46,
   "metadata": {},
   "outputs": [
    {
     "name": "stdout",
     "output_type": "stream",
     "text": [
      "dict_keys(['val_loss', 'val_acc', 'loss', 'acc'])\n"
     ]
    },
    {
     "data": {
      "image/png": "[encoded data removed]",
      "text/plain": [
       "<Figure size 432x288 with 1 Axes>"
      ]
     },
     "metadata": {
      "needs_background": "light"
     },
     "output_type": "display_data"
    },
    {
     "data": {
      "image/png": "[encoded data removed]",
      "text/plain": [
       "<Figure size 432x288 with 1 Axes>"
      ]
     },
     "metadata": {
      "needs_background": "light"
     },
     "output_type": "display_data"
    }
   ],
   "source": [
    "# list all data in history\n",
    "print(history.history.keys())\n",
    "# summarize history for accuracy\n",
    "plt.plot(history.history['acc'])\n",
    "plt.plot(history.history['val_acc'])\n",
    "plt.title('model accuracy')\n",
    "plt.ylabel('accuracy')\n",
    "plt.xlabel('epoch')\n",
    "plt.legend(['train', 'val'], loc='upper left')\n",
    "plt.show()\n",
    "# summarize history for loss\n",
    "plt.plot(history.history['loss'])\n",
    "plt.plot(history.history['val_loss'])\n",
    "plt.title('model loss')\n",
    "plt.ylabel('loss')\n",
    "plt.xlabel('epoch')\n",
    "plt.legend(['train', 'val'], loc='upper left')\n",
    "plt.show()"
   ]
  },
  {
   "cell_type": "markdown",
   "metadata": {},
   "source": [
    "## Singular prediction"
   ]
  },
  {
   "cell_type": "code",
   "execution_count": 71,
   "metadata": {},
   "outputs": [
    {
     "data": {
      "text/plain": [
       "array([[0.68, 0.32]], dtype=float32)"
      ]
     },
     "execution_count": 71,
     "metadata": {},
     "output_type": "execute_result"
    },
    {
     "data": {
      "image/png": "[encoded data removed]",
      "text/plain": [
       "<Figure size 432x288 with 1 Axes>"
      ]
     },
     "metadata": {
      "needs_background": "light"
     },
     "output_type": "display_data"
    }
   ],
   "source": [
    "#Get image from to predict Post_Processada_2Cat dataset\n",
    "img = Image.open('../data/Datasets/MPRAGE_2Cat/TestSet/AD/AD_51-frame000-slice119.jpg')\n",
    "img = np.asarray(img.resize((255,255), Image.ANTIALIAS))/255\n",
    "plt.imshow(img)\n",
    "p = model_VGG16.predict(np.array([img]))\n",
    "p"
   ]
  },
  {
   "cell_type": "code",
   "execution_count": 74,
   "metadata": {},
   "outputs": [
    {
     "data": {
      "text/plain": [
       "array([[0.68, 0.32]], dtype=float32)"
      ]
     },
     "execution_count": 74,
     "metadata": {},
     "output_type": "execute_result"
    },
    {
     "data": {
      "image/png": "[encoded data removed]",
      "text/plain": [
       "<Figure size 432x288 with 1 Axes>"
      ]
     },
     "metadata": {
      "needs_background": "light"
     },
     "output_type": "display_data"
    }
   ],
   "source": [
    "#Get image from to predict Post_Processada_2Cat dataset\n",
    "img = Image.open('../data/Datasets/MPRAGE_2Cat/TestSet/CN/CN_63-frame000-slice137.jpg')\n",
    "img = np.asarray(img.resize((255,255), Image.ANTIALIAS))/255\n",
    "plt.imshow(img)\n",
    "p = model_VGG16.predict(np.array([img]))\n",
    "p"
   ]
  },
  {
   "cell_type": "markdown",
   "metadata": {},
   "source": [
    "## Multiple prediction"
   ]
  },
  {
   "cell_type": "code",
   "execution_count": 75,
   "metadata": {},
   "outputs": [],
   "source": [
    "def plot_confusion_matrix(cm, classes,\n",
    "                          normalize=False,\n",
    "                          title='Confusion matrix',\n",
    "                          cmap=plt.cm.Blues):\n",
    "    \"\"\"\n",
    "    This function prints and plots the confusion matrix.\n",
    "    Normalization can be applied by setting `normalize=True`.\n",
    "    \"\"\"\n",
    "    if normalize:\n",
    "        cm = cm.astype('float') / cm.sum(axis=1)[:, np.newaxis]\n",
    "        print(\"Normalized confusion matrix\")\n",
    "    else:\n",
    "        print('Confusion matrix, without normalization')\n",
    "\n",
    "    print(cm)\n",
    "\n",
    "    plt.imshow(cm, interpolation='nearest', cmap=cmap)\n",
    "    plt.title(title)\n",
    "    plt.colorbar()\n",
    "    tick_marks = np.arange(len(classes))\n",
    "    plt.xticks(tick_marks, classes, rotation=45)\n",
    "    plt.yticks(tick_marks, classes)\n",
    "\n",
    "    fmt = '.2f' if normalize else 'd'\n",
    "    thresh = cm.max() / 2.\n",
    "    for i, j in itertools.product(range(cm.shape[0]), range(cm.shape[1])):\n",
    "        plt.text(j, i, format(cm[i, j], fmt),\n",
    "                 horizontalalignment=\"center\",\n",
    "                 color=\"white\" if cm[i, j] > thresh else \"black\")\n",
    "\n",
    "    plt.tight_layout()\n",
    "    plt.ylabel('True label')\n",
    "    plt.xlabel('Predicted label')\n",
    "\n"
   ]
  },
  {
   "cell_type": "code",
   "execution_count": 79,
   "metadata": {},
   "outputs": [
    {
     "name": "stdout",
     "output_type": "stream",
     "text": [
      "10/10 [==============================] - 5s 511ms/step\n"
     ]
    },
    {
     "data": {
      "text/plain": [
       "[2.1486376762390136, 0.5515625]"
      ]
     },
     "execution_count": 79,
     "metadata": {},
     "output_type": "execute_result"
    }
   ],
   "source": [
    "model_VGG16.evaluate_generator(test_generator_MPRAGE_2Cat, steps=10, verbose=1)"
   ]
  },
  {
   "cell_type": "code",
   "execution_count": 80,
   "metadata": {},
   "outputs": [
    {
     "name": "stdout",
     "output_type": "stream",
     "text": [
      "Confusion matrix, without normalization\n",
      "[[20 14]\n",
      " [26  4]]\n",
      "Normalized confusion matrix\n",
      "[[0.59 0.41]\n",
      " [0.87 0.13]]\n"
     ]
    },
    {
     "data": {
      "image/png": "[encoded data removed]",
      "text/plain": [
       "<Figure size 432x288 with 2 Axes>"
      ]
     },
     "metadata": {
      "needs_background": "light"
     },
     "output_type": "display_data"
    },
    {
     "data": {
      "image/png": "[encoded data removed]",
      "text/plain": [
       "<Figure size 432x288 with 2 Axes>"
      ]
     },
     "metadata": {
      "needs_background": "light"
     },
     "output_type": "display_data"
    }
   ],
   "source": [
    "# Get images and corresponding label\n",
    "images_test, y_labels = next(test_generator_MPRAGE_2Cat)\n",
    "images_test = np.round(images_test)\n",
    "# Get predictions\n",
    "y_pred = model_VGG16.predict_generator(test_generator_MPRAGE_2Cat, steps=1, verbose=0)\n",
    "y_pred = np.round(y_pred).argmax(axis=1)\n",
    "\n",
    "# Compute confusion matrix\n",
    "cnf_matrix = confusion_matrix(y_labels.argmax(axis=1), y_pred)\n",
    "np.set_printoptions(precision=2)\n",
    "\n",
    "# Plot non-normalized confusion matrix\n",
    "plt.figure()\n",
    "plot_confusion_matrix(cnf_matrix, classes=classes,\n",
    "                      title='Confusion matrix, without normalization')\n",
    "\n",
    "# Plot normalized confusion matrix\n",
    "plt.figure()\n",
    "plot_confusion_matrix(cnf_matrix, classes=classes, normalize=True,\n",
    "                      title='Normalized confusion matrix')\n",
    "\n",
    "plt.show()"
   ]
  },
  {
   "cell_type": "code",
   "execution_count": null,
   "metadata": {},
   "outputs": [],
   "source": []
  }
 ],
 "metadata": {
  "kernelspec": {
   "display_name": "Python 3",
   "language": "python",
   "name": "python3"
  },
  "language_info": {
   "codemirror_mode": {
    "name": "ipython",
    "version": 3
   },
   "file_extension": ".py",
   "mimetype": "text/x-python",
   "name": "python",
   "nbconvert_exporter": "python",
   "pygments_lexer": "ipython3",
   "version": "3.6.9"
  }
 },
 "nbformat": 4,
 "nbformat_minor": 2
}
